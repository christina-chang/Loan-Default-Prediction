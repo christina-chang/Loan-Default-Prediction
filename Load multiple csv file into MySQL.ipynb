{
 "cells": [
  {
   "cell_type": "code",
   "execution_count": null,
   "metadata": {
    "collapsed": false
   },
   "outputs": [],
   "source": [
    "import pymysql\n",
    "import csv\n",
    "import pandas as pd\n",
    "import numpy as np\n",
    "db = pymysql.connect(host='localhost', user='root', passwd='***')\n",
    "cursor = db.cursor()\n",
    "cursor.execute('CREATE DATABASE loan_stat;')\n",
    "cursor.execute(\"Show databases;\")\n",
    "cursor.execute('USE loan_stat;')"
   ]
  },
  {
   "cell_type": "code",
   "execution_count": null,
   "metadata": {
    "collapsed": false
   },
   "outputs": [],
   "source": [
    "#check if there is any difference between the headers of datafiles for different years\n",
    "names = ['LoanStats_2007_2011', 'LoanStats_2012_2013', 'LoanStats_2014', 'LoanStats_2015']\n",
    "i=0\n",
    "headers=[]\n",
    "files = []\n",
    "for name in names:\n",
    "    files.append(name+'.csv')\n",
    "    with open(files[i], newline='') as f:\n",
    "        reader = csv.reader(f) \n",
    "        headers.append(next(reader))\n",
    "        \n",
    "\n",
    "for i in range(1, len(headers)):\n",
    "    print(set(headers[i])-set(headers[i-1]))\n",
    "    #print(headers[i]==headers[i-1])\n",
    "#headers[0]"
   ]
  },
  {
   "cell_type": "markdown",
   "metadata": {},
   "source": [
    "## create a table named loans_tot"
   ]
  },
  {
   "cell_type": "code",
   "execution_count": null,
   "metadata": {
    "collapsed": false
   },
   "outputs": [],
   "source": [
    "#sql query for creating new table\n",
    "\n",
    "data = pd.read_csv('LoanStats_2007_2011.csv', encoding=\"ISO-8859-1\")\n",
    "dtypes = data.dtypes\n",
    "\n",
    "dtype_li = list()\n",
    "attr_li = list()\n",
    "\n",
    "for attr, py_dtype in dtypes.iteritems() :\n",
    "    if py_dtype == 'int64':\n",
    "        sql_dtype = 'int(11)'\n",
    "    if py_dtype == 'float64':\n",
    "        sql_dtype = 'float(15,4)'\n",
    "    if py_dtype == 'O':\n",
    "        sql_dtype = 'varchar(100)'\n",
    "    if attr == 'desc':\n",
    "        attr = \"description\"\n",
    "        sql_dtype = 'varchar(5000)'\n",
    "    if attr == 'verification_status_joint':\n",
    "        sql_dtype = 'varchar(100)'\n",
    "    attr_li.append(attr)\n",
    "    dtype_li.append(sql_dtype)"
   ]
  },
  {
   "cell_type": "code",
   "execution_count": null,
   "metadata": {
    "collapsed": false
   },
   "outputs": [],
   "source": [
    "# create table\n",
    "\n",
    "query = 'CREATE TABLE loans ('\n",
    "for i in range(len(attr_li)):\n",
    "    query = query+'{} {}, '.format(attr_li[i], dtype_li[i])\n",
    "query = query+'PRIMARY KEY (id));'\n",
    "#print(query)\n",
    "\n",
    "cursor.execute(query)"
   ]
  },
  {
   "cell_type": "markdown",
   "metadata": {},
   "source": [
    "## Insert Data From Multiple csv files"
   ]
  },
  {
   "cell_type": "code",
   "execution_count": null,
   "metadata": {
    "collapsed": false
   },
   "outputs": [],
   "source": [
    "# sql query for importing data\n",
    "# dealing with empty fields in csv data by convering them to NULL in mysql (refer to 'MySQL load NULL values from CSV data'--stackoverflow)\n",
    "\n",
    "set_null_sql = '(id,'\n",
    "for attr in attr_li[1:]:\n",
    "    set_null_sql += ' @v'+attr+','\n",
    "set_null_sql = set_null_sql[:-1]+') SET'\n",
    "for attr in attr_li[1:]:\n",
    "    set_null_sql += ' '+attr+' = nullif(@v'+attr+\",''),\"\n",
    "set_null_sql = set_null_sql[:-1]+';'\n",
    "\n",
    "#print(set_null_sql)"
   ]
  },
  {
   "cell_type": "code",
   "execution_count": null,
   "metadata": {
    "collapsed": false
   },
   "outputs": [],
   "source": [
    "name_li = ['LoanStats_2007_2011', 'LoanStats_2012_2013', 'LoanStats_2014', 'LoanStats_2015']\n",
    "infile_path =  'C:/.../p2pLending_project/{}.csv'\n",
    "outfile_path = 'C:/ProgramData/MySQL/MySQL Server 5.7/Uploads/{}.csv'\n",
    "\n",
    "sql = r\"\"\"LOAD DATA INFILE '{}' INTO TABLE loans FIELDS TERMINATED BY ',' ENCLOSED BY '\"' LINES TERMINATED BY '\\r\\n' IGNORE 1 LINES\"\"\" + set_null_sql\n",
    "\n",
    "for name in name_li:\n",
    "    # convert csv files encoding to utf-8 and move files to the directory specified by secure-file-priv\n",
    "    # use SHOW VARIABLES LIKE \"secure_file_priv\"; (in mysql) to see the directory from which you can load files using LOAD DATA INFILE\n",
    "    with open(infile_path.format(name),'r', encoding='utf-8', errors='ignore', newline='') as infile, open(outfile_path.format(name),'w', newline='') as outfile:\n",
    "        inputs = csv.reader(infile)\n",
    "        outputs = csv.writer(outfile)\n",
    "        for row in inputs:\n",
    "            outputs.writerow(row)\n",
    "    \n",
    "    cursor.execute(sql.format(outfile_path.format(name)))\n",
    "    print(name)"
   ]
  },
  {
   "cell_type": "code",
   "execution_count": null,
   "metadata": {
    "collapsed": true
   },
   "outputs": [],
   "source": [
    "cursor.close()\n",
    "db.close()"
   ]
  }
 ],
 "metadata": {
  "anaconda-cloud": {},
  "kernelspec": {
   "display_name": "Python [Root]",
   "language": "python",
   "name": "Python [Root]"
  },
  "language_info": {
   "codemirror_mode": {
    "name": "ipython",
    "version": 3
   },
   "file_extension": ".py",
   "mimetype": "text/x-python",
   "name": "python",
   "nbconvert_exporter": "python",
   "pygments_lexer": "ipython3",
   "version": "3.5.2"
  }
 },
 "nbformat": 4,
 "nbformat_minor": 0
}
